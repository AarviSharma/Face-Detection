{
 "cells": [
  {
   "cell_type": "code",
   "execution_count": 1,
   "metadata": {},
   "outputs": [],
   "source": [
    "import cv2\n",
    "img_clr=cv2.imread(\"g:/images/12.jpg\",cv2.IMREAD_COLOR)\n",
    "img_gray=cv2.cvtColor(img_clr,cv2.COLOR_BGR2GRAY)\n",
    "clf_face=cv2.CascadeClassifier(\"g:/dataset (2)/dataset/haar/haarcascade_frontalface_default.xml\")\n",
    "clf_eyes=cv2.CascadeClassifier(\"g:/dataset (2)/dataset/haar/haarcascade_eye.xml\")\n",
    "faces=clf_face.detectMultiScale(img_gray,1.2,3)\n",
    "f=0\n",
    "for x,y,w,h in faces:\n",
    "    f=f+1\n",
    "    cv2.rectangle(img_clr,(x,y),(x+w,y+h),(0,255,0),2)\n",
    "    crop_face_clr=img_clr[y:y+h,x:x+w]\n",
    "    crop_face_gray=img_clr[y:y+h,x:x+w]\n",
    "    cv2.imwrite(f\"{f}.png\",crop_face_clr)\n",
    "    eyes=clf_eyes.detectMultiScale(crop_face_gray)\n",
    "    for xe,ye,we,he in eyes:\n",
    "        cv2.rectangle(crop_face_clr,(xe,ye),(xe+we,ye+he),(255,0,0),2)\n",
    "cv2.imshow(\"Faces\",img_clr)\n",
    "cv2.waitKey(0)\n",
    "cv2.destroyAllWindows()"
   ]
  },
  {
   "cell_type": "code",
   "execution_count": null,
   "metadata": {},
   "outputs": [],
   "source": []
  }
 ],
 "metadata": {
  "kernelspec": {
   "display_name": "Python 3",
   "language": "python",
   "name": "python3"
  },
  "language_info": {
   "codemirror_mode": {
    "name": "ipython",
    "version": 3
   },
   "file_extension": ".py",
   "mimetype": "text/x-python",
   "name": "python",
   "nbconvert_exporter": "python",
   "pygments_lexer": "ipython3",
   "version": "3.6.5"
  }
 },
 "nbformat": 4,
 "nbformat_minor": 2
}
