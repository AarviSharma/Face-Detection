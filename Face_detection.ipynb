{
 "cells": [
  {
   "cell_type": "code",
   "execution_count": 1,
   "metadata": {},
   "outputs": [],
   "source": [
    "import cv2\n",
    "clf=cv2.CascadeClassifier(\"G:/dataset (2)/dataset/haar/xml/haarcascade_frontalface_default.xml\")\n",
    "vdocap=cv2.VideoCapture(0)\n",
    "while(True):\n",
    "    isImage,img=vdocap.read()\n",
    "    gray=cv2.cvtColor(img,cv2.COLOR_BGR2GRAY)\n",
    "    faces=clf.detectMultiScale(gray)\n",
    "    for x,y,w,h in faces:\n",
    "        cv2.rectangle(img,(x,y),(x+w,y+h),(0,0,255),2)\n",
    "    cv2.imshow('vdo',img)\n",
    "    key=cv2.waitKey(1)\n",
    "    if(key==ord('q')):\n",
    "        break\n",
    "vdocap.release()\n",
    "cv2.destroyAllWindows()"
   ]
  },
  {
   "cell_type": "code",
   "execution_count": 2,
   "metadata": {},
   "outputs": [],
   "source": [
    "img_clr=cv2.imread(\"g:/images/2.jpg\",cv2.IMREAD_COLOR)\n",
    "img_gray=cv2.cvtColor(img_clr,cv2.COLOR_BGR2GRAY)\n",
    "clf=cv2.CascadeClassifier(\"g:/dataset (2)/dataset/haar/haarcascade_frontalface_default.xml\")\n",
    "faces=clf.detectMultiScale(img_gray,1.05,4)\n",
    "for x,y,w,h in faces:\n",
    "    cv2.rectangle(img_clr,(x,y),(x+w,y+h),(0,0,255),2)\n",
    "cv2.imshow(\"Faces\",img_clr)\n",
    "cv2.waitKey(0)\n",
    "cv2.destroyAllWindows()"
   ]
  },
  {
   "cell_type": "code",
   "execution_count": null,
   "metadata": {},
   "outputs": [],
   "source": []
  }
 ],
 "metadata": {
  "kernelspec": {
   "display_name": "Python 3",
   "language": "python",
   "name": "python3"
  },
  "language_info": {
   "codemirror_mode": {
    "name": "ipython",
    "version": 3
   },
   "file_extension": ".py",
   "mimetype": "text/x-python",
   "name": "python",
   "nbconvert_exporter": "python",
   "pygments_lexer": "ipython3",
   "version": "3.6.5"
  }
 },
 "nbformat": 4,
 "nbformat_minor": 2
}
